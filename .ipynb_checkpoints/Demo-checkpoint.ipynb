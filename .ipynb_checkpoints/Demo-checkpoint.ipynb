{
 "cells": [
  {
   "cell_type": "code",
   "execution_count": 2,
   "metadata": {},
   "outputs": [],
   "source": [
    "from translate_module import translate_to_pirate as piratify"
   ]
  },
  {
   "cell_type": "code",
   "execution_count": 3,
   "metadata": {},
   "outputs": [],
   "source": [
    "f = open('data/movie_lines.txt','r')\n",
    "content = f.readlines()\n",
    "f.close()"
   ]
  },
  {
   "cell_type": "markdown",
   "metadata": {},
   "source": [
    "# Set random_sample to True if you'd like random dialogues converted to pirate_tongue. For a fixed sample, set random_sample to False"
   ]
  },
  {
   "cell_type": "code",
   "execution_count": 5,
   "metadata": {},
   "outputs": [],
   "source": [
    "random_sample = True"
   ]
  },
  {
   "cell_type": "code",
   "execution_count": null,
   "metadata": {},
   "outputs": [],
   "source": [
    "# pirate_words_uncleaned = []\n",
    "\n",
    "ind\n",
    "\n",
    "for c in content:\n",
    "    c = c.rstrip()\n",
    "    if counter % 500 == 0:\n",
    "        print(c)\n",
    "        translation = pirate_bot(c)\n",
    "        print(translation)\n",
    "        print('\\n\\n')\n",
    "    counter +=1 \n",
    "    words = c.split()\n",
    "    filtered_words = [word for word in words if word not in stopwords.words('english')]\n",
    "    for word in filtered_words:\n",
    "        if word[-1].isalpha() == False:\n",
    "            word = word[:-1]\n",
    "        if len(word) > 2:\n",
    "            if word.lower() not in words_dictionary.keys():\n",
    "                pirate_words_uncleaned.append(word)"
   ]
  },
  {
   "cell_type": "code",
   "execution_count": 2,
   "metadata": {},
   "outputs": [],
   "source": [
    "test_str = \"The world is not what it used to be. It mean the world to her, it's nothing but a nut to me\""
   ]
  },
  {
   "cell_type": "code",
   "execution_count": 3,
   "metadata": {},
   "outputs": [
    {
     "data": {
      "text/plain": [
       "\"Avast Ye!the world is ain't not what it used t' be. it mean the world t' her, it's ain't nothing but a nut t' me\""
      ]
     },
     "execution_count": 3,
     "metadata": {},
     "output_type": "execute_result"
    }
   ],
   "source": [
    "piratify(test_str)"
   ]
  },
  {
   "cell_type": "code",
   "execution_count": 4,
   "metadata": {},
   "outputs": [
    {
     "data": {
      "text/plain": [
       "\"Blow Me Down!proceed t' the next level, 'bout the base, ain't no treble\""
      ]
     },
     "execution_count": 4,
     "metadata": {},
     "output_type": "execute_result"
    }
   ],
   "source": [
    "piratify(\"Proceed to the next level, 'bout the base, no treble\")"
   ]
  },
  {
   "cell_type": "code",
   "execution_count": null,
   "metadata": {},
   "outputs": [],
   "source": []
  }
 ],
 "metadata": {
  "kernelspec": {
   "display_name": "Python 3",
   "language": "python",
   "name": "python3"
  },
  "language_info": {
   "codemirror_mode": {
    "name": "ipython",
    "version": 3
   },
   "file_extension": ".py",
   "mimetype": "text/x-python",
   "name": "python",
   "nbconvert_exporter": "python",
   "pygments_lexer": "ipython3",
   "version": "3.6.5"
  }
 },
 "nbformat": 4,
 "nbformat_minor": 2
}
