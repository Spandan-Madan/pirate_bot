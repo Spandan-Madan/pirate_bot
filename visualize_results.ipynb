{
 "cells": [
  {
   "cell_type": "code",
   "execution_count": 7,
   "metadata": {},
   "outputs": [],
   "source": [
    "from general_helper_functions import *"
   ]
  },
  {
   "cell_type": "code",
   "execution_count": 2,
   "metadata": {},
   "outputs": [
    {
     "name": "stderr",
     "output_type": "stream",
     "text": [
      "C:\\Users\\t-spmada\\AppData\\Local\\Continuum\\anaconda3\\envs\\pirate\\lib\\site-packages\\gensim\\utils.py:1197: UserWarning: detected Windows; aliasing chunkize to chunkize_serial\n",
      "  warnings.warn(\"detected Windows; aliasing chunkize to chunkize_serial\")\n"
     ]
    },
    {
     "data": {
      "text/plain": [
       "(2196017, 300)"
      ]
     },
     "execution_count": 2,
     "metadata": {},
     "output_type": "execute_result"
    }
   ],
   "source": [
    "from gensim.scripts.glove2word2vec import glove2word2vec\n",
    "glove_input_file = '../glove.840B.300d/glove.840B.300d.txt'\n",
    "word2vec_output_file = 'glove_gensim.txt'\n",
    "glove2word2vec(glove_input_file, word2vec_output_file)"
   ]
  },
  {
   "cell_type": "code",
   "execution_count": 3,
   "metadata": {},
   "outputs": [],
   "source": [
    "from gensim.models import KeyedVectors\n",
    "# load the Stanford GloVe model\n",
    "filename = 'glove_gensim.txt'\n",
    "model_gensim = KeyedVectors.load_word2vec_format(filename, binary=False)\n",
    "# calculate: (king - man) + woman = ?\n",
    "# result = model.most_similar(positive=['woman', 'king'], negative=['man'], topn=1)\n",
    "# print(result)"
   ]
  },
  {
   "cell_type": "code",
   "execution_count": 5,
   "metadata": {},
   "outputs": [
    {
     "data": {
      "text/plain": [
       "array([ 0.25233  ,  0.10176  , -0.67485  ,  0.21117  ,  0.43492  ,\n",
       "        0.16542  ,  0.48261  , -0.81222  ,  0.041321 ,  0.78502  ,\n",
       "       -0.077857 , -0.66324  ,  0.1464   , -0.29289  , -0.25488  ,\n",
       "        0.019293 , -0.20265  ,  0.98232  ,  0.028312 , -0.081276 ,\n",
       "       -0.1214   ,  0.13126  , -0.17648  ,  0.13556  , -0.16361  ,\n",
       "       -0.22574  ,  0.055006 , -0.20308  ,  0.20718  ,  0.095785 ,\n",
       "        0.22481  ,  0.21537  , -0.32982  , -0.12241  , -0.40031  ,\n",
       "       -0.079381 , -0.19958  , -0.015083 , -0.079139 , -0.18132  ,\n",
       "        0.20681  , -0.36196  , -0.30744  , -0.24422  , -0.23113  ,\n",
       "        0.09798  ,  0.1463   , -0.062738 ,  0.42934  , -0.078038 ,\n",
       "       -0.19627  ,  0.65093  , -0.22807  , -0.30308  , -0.12483  ,\n",
       "       -0.17568  , -0.14651  ,  0.15361  , -0.29518  ,  0.15099  ,\n",
       "       -0.51726  , -0.033564 , -0.23109  , -0.7833   ,  0.018029 ,\n",
       "       -0.15719  ,  0.02293  ,  0.49639  ,  0.029225 ,  0.05669  ,\n",
       "        0.14616  , -0.19195  ,  0.16244  ,  0.23898  ,  0.36431  ,\n",
       "        0.45263  ,  0.2456   ,  0.23803  ,  0.31399  ,  0.3487   ,\n",
       "       -0.035791 ,  0.56108  , -0.25345  ,  0.051964 , -0.10618  ,\n",
       "       -0.30962  ,  1.0585   , -0.42025  ,  0.18216  , -0.11256  ,\n",
       "        0.40576  ,  0.11784  , -0.19705  , -0.075292 ,  0.080723 ,\n",
       "       -0.02782  , -0.15617  , -0.44681  , -0.15165  ,  0.1692   ,\n",
       "        0.098255 , -0.031894 ,  0.087143 ,  0.26082  ,  0.002706 ,\n",
       "        0.1319   ,  0.34439  , -0.37894  , -0.4114   ,  0.081571 ,\n",
       "       -0.11674  , -0.43711  ,  0.011144 ,  0.099353 ,  0.26612  ,\n",
       "        0.40025  ,  0.18895  , -0.18438  , -0.30355  , -0.2725   ,\n",
       "        0.22468  , -0.40614  ,  0.15618  , -0.16043  ,  0.47147  ,\n",
       "        0.0080203,  0.56858  ,  0.21934  , -0.11181  ,  0.79925  ,\n",
       "        0.10714  , -0.50146  ,  0.063593 ,  0.069465 ,  0.15292  ,\n",
       "       -0.2747   , -0.20989  ,  0.20737  , -0.10681  ,  0.40651  ,\n",
       "       -2.6438   , -0.31139  , -0.32157  , -0.26458  , -0.35625  ,\n",
       "        0.070013 , -0.18838  ,  0.48773  , -0.26167  , -0.020805 ,\n",
       "        0.17819  ,  0.15758  , -0.13752  ,  0.056464 ,  0.30766  ,\n",
       "       -0.066136 ,  0.4748   , -0.27335  ,  0.09732  , -0.20832  ,\n",
       "        0.0039332,  0.346    , -0.08702  , -0.54924  , -0.18759  ,\n",
       "       -0.17174  ,  0.060324 , -0.13521  ,  0.10419  ,  0.30165  ,\n",
       "        0.05798  ,  0.21872  , -0.073594 , -0.20423  , -0.25279  ,\n",
       "       -0.10471  , -0.32163  ,  0.12525  , -0.31281  ,  0.0097207,\n",
       "       -0.26777  , -0.61121  , -0.11089  , -0.13652  ,  0.035135 ,\n",
       "       -0.4939   ,  0.084857 , -0.15494  , -0.063509 , -0.23935  ,\n",
       "        0.28272  ,  0.10849  , -0.3365   , -0.60764  ,  0.38576  ,\n",
       "       -0.0095438,  0.17499  , -0.52723  ,  0.62211  ,  0.19544  ,\n",
       "       -0.48977  ,  0.036582 , -0.128    , -0.016827 ,  0.25647  ,\n",
       "       -0.31698  ,  0.48257  , -0.14184  ,  0.11046  , -0.3098   ,\n",
       "       -0.63141  , -0.37268  ,  0.23183  , -0.14268  , -0.02341  ,\n",
       "        0.022255 , -0.044662 , -0.16404  , -0.25848  ,  0.1629   ,\n",
       "        0.024751 ,  0.23348  ,  0.27933  ,  0.38998  , -0.058968 ,\n",
       "        0.11355  ,  0.15673  ,  0.18583  , -0.19814  , -0.48123  ,\n",
       "       -0.035084 ,  0.078458 , -0.49833  ,  0.10855  , -0.20133  ,\n",
       "        0.05292  , -0.11583  , -0.16009  ,  0.16768  ,  0.42362  ,\n",
       "       -0.23106  ,  0.082465 ,  0.24296  , -0.16786  ,  0.0080409,\n",
       "        0.085947 ,  0.38033  ,  0.072981 ,  0.1633   ,  0.24704  ,\n",
       "       -0.11094  ,  0.15115  , -0.22068  , -0.061944 , -0.037091 ,\n",
       "       -0.087923 , -0.23181  ,  0.15035  , -0.19093  , -0.19113  ,\n",
       "       -0.11894  ,  0.094908 , -0.0043347,  0.15362  , -0.41201  ,\n",
       "       -0.3073   ,  0.18375  ,  0.40206  , -0.0034793, -0.10917  ,\n",
       "       -0.69522  ,  0.10161  , -0.079256 ,  0.40329  ,  0.22285  ,\n",
       "       -0.19374  , -0.13315  ,  0.073231 ,  0.099832 ,  0.11685  ,\n",
       "       -0.21643  , -0.1108   ,  0.10341  ,  0.097286 ,  0.11196  ,\n",
       "       -0.3894   , -0.0089363,  0.28809  , -0.10792  ,  0.028811 ,\n",
       "        0.32545  ,  0.26052  , -0.038941 ,  0.075204 ,  0.46031  ,\n",
       "       -0.06293  ,  0.21661  ,  0.17869  , -0.51917  ,  0.33591  ],\n",
       "      dtype=float32)"
      ]
     },
     "execution_count": 5,
     "metadata": {},
     "output_type": "execute_result"
    }
   ],
   "source": [
    "model_gensim['hello']"
   ]
  },
  {
   "cell_type": "code",
   "execution_count": 6,
   "metadata": {},
   "outputs": [],
   "source": [
    "import torch\n",
    "from torch.autograd import Variable\n",
    "model = torch.load('fasttext_to_glove_model.pt')"
   ]
  },
  {
   "cell_type": "code",
   "execution_count": 8,
   "metadata": {},
   "outputs": [],
   "source": [
    "fasttext_embedding = load_pickle('fasttext_embedding.pckl')"
   ]
  },
  {
   "cell_type": "code",
   "execution_count": 30,
   "metadata": {},
   "outputs": [],
   "source": [
    "def show_closest(word,N):\n",
    "    try:\n",
    "        word_embed = fasttext_embedding[word]\n",
    "    except:\n",
    "        print('Not in vocab')\n",
    "        return 0\n",
    "    \n",
    "    tensor_x=torch.from_numpy(word_embed).float()\n",
    "    x = Variable(tensor_x).type(torch.FloatTensor)\n",
    "    y_pred = model(x)\n",
    "\n",
    "    y_pred_array = y_pred.data.numpy()\n",
    "    most_sim = model_gensim.most_similar(positive=[y_pred_array],topn=N)\n",
    "    return most_sim"
   ]
  },
  {
   "cell_type": "code",
   "execution_count": 34,
   "metadata": {},
   "outputs": [
    {
     "data": {
      "text/plain": [
       "[('him', 0.7235958576202393),\n",
       " ('he', 0.7201135158538818),\n",
       " ('hell', 0.7134354710578918),\n",
       " ('knew', 0.7097355723381042),\n",
       " ('never', 0.7078832387924194),\n",
       " ('gone', 0.7017333507537842),\n",
       " ('nothing', 0.7010257244110107),\n",
       " ('again', 0.7003450989723206),\n",
       " ('ever', 0.6987797617912292),\n",
       " ('thing', 0.6973714232444763),\n",
       " ('thought', 0.6927211880683899),\n",
       " ('when', 0.6923003196716309),\n",
       " ('going', 0.6908234357833862),\n",
       " ('once', 0.6894328594207764),\n",
       " ('though', 0.6884390711784363),\n",
       " ('but', 0.6882418394088745),\n",
       " ('nobody', 0.6869826912879944),\n",
       " ('everyone', 0.6862026453018188),\n",
       " ('man', 0.6849325895309448),\n",
       " ('telling', 0.6849181056022644)]"
      ]
     },
     "execution_count": 34,
     "metadata": {},
     "output_type": "execute_result"
    }
   ],
   "source": [
    "show_closest('man',20)"
   ]
  },
  {
   "cell_type": "code",
   "execution_count": 35,
   "metadata": {},
   "outputs": [
    {
     "data": {
      "text/plain": [
       "[('man', 1.0),\n",
       " ('woman', 0.740174412727356),\n",
       " ('guy', 0.7067893743515015),\n",
       " ('boy', 0.7045700550079346),\n",
       " ('he', 0.6831112504005432),\n",
       " ('men', 0.6729364395141602),\n",
       " ('gentleman', 0.6320432424545288),\n",
       " ('dude', 0.6291711330413818),\n",
       " ('himself', 0.6282387971878052),\n",
       " ('him', 0.6130028367042542),\n",
       " ('lad', 0.6001024842262268),\n",
       " ('father', 0.5979244709014893),\n",
       " ('mans', 0.5956029891967773),\n",
       " ('lady', 0.5933055877685547),\n",
       " ('He', 0.5931044816970825),\n",
       " ('Man', 0.5859243869781494),\n",
       " ('his', 0.5807739496231079),\n",
       " ('dead', 0.5802757740020752),\n",
       " ('knows', 0.5781251192092896),\n",
       " ('young', 0.5776565670967102)]"
      ]
     },
     "execution_count": 35,
     "metadata": {},
     "output_type": "execute_result"
    }
   ],
   "source": [
    "model_gensim.most_similar(positive=[model_gensim['man']],topn=20)"
   ]
  }
 ],
 "metadata": {
  "kernelspec": {
   "display_name": "Python [conda env:pirate]",
   "language": "python",
   "name": "conda-env-pirate-py"
  },
  "language_info": {
   "codemirror_mode": {
    "name": "ipython",
    "version": 3
   },
   "file_extension": ".py",
   "mimetype": "text/x-python",
   "name": "python",
   "nbconvert_exporter": "python",
   "pygments_lexer": "ipython3",
   "version": "3.6.5"
  }
 },
 "nbformat": 4,
 "nbformat_minor": 2
}
